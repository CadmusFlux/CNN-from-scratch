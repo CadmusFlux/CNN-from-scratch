{
 "cells": [
  {
   "cell_type": "code",
   "execution_count": 1,
   "metadata": {},
   "outputs": [],
   "source": [
    "import pandas as pd\n",
    "import numpy as np\n",
    "import cv2"
   ]
  },
  {
   "cell_type": "code",
   "execution_count": 2,
   "metadata": {},
   "outputs": [],
   "source": [
    "import pandas as pd"
   ]
  },
  {
   "cell_type": "code",
   "execution_count": 3,
   "metadata": {},
   "outputs": [
    {
     "data": {
      "text/plain": [
       "-1"
      ]
     },
     "execution_count": 3,
     "metadata": {},
     "output_type": "execute_result"
    }
   ],
   "source": [
    "# Read and display image\n",
    "\n",
    "img = cv2.imread(\"C:\\MLAI\\CNN\\chomu.jpg\")\n",
    "\n",
    "cv2.imshow('',img)\n",
    "cv2.waitKey(0)"
   ]
  },
  {
   "cell_type": "code",
   "execution_count": 4,
   "metadata": {},
   "outputs": [],
   "source": [
    "filter1 = np.array([[1,0,0],[0,1,0],[0,0,1]]) # Declaring filter"
   ]
  },
  {
   "cell_type": "code",
   "execution_count": 5,
   "metadata": {},
   "outputs": [],
   "source": [
    "'''\n",
    "    Stride : Vector\n",
    "        0: Horizontal (column) stride\n",
    "        1: Vertical (row) stride\n",
    "'''\n",
    "\n",
    "stride1 = [0,0]\n",
    "stride1[0] = int(input(\"Enter row stride\"))\n",
    "stride1[1] = int(input(\"Enter column stride\"))\n"
   ]
  },
  {
   "cell_type": "code",
   "execution_count": 6,
   "metadata": {},
   "outputs": [
    {
     "data": {
      "text/plain": [
       "array([[1, 0, 0],\n",
       "       [0, 1, 0],\n",
       "       [0, 0, 1]])"
      ]
     },
     "execution_count": 6,
     "metadata": {},
     "output_type": "execute_result"
    }
   ],
   "source": [
    "filter1"
   ]
  },
  {
   "cell_type": "code",
   "execution_count": 10,
   "metadata": {},
   "outputs": [],
   "source": [
    " def convolution(input_img,filter,stride):\n",
    "\n",
    "\n",
    "    '''\n",
    "\n",
    "    Parameters: \n",
    "        input_img : Original image with RGB channels [H x W x 3]\n",
    "        filter : Kernel or filter [3x3 / 5x5]\n",
    "        stride : The no.of pixels to skip with each convolution.\n",
    "                Row stride / column stride\n",
    "    \n",
    "    Return:\n",
    "        f_map : Feature map\n",
    "\n",
    "    Algorithm:\n",
    "\n",
    "        1. Flatten the image and scale it from 0-255 to 0-1\n",
    "        2. Calculate the  dimension of output array using cnn formula\n",
    "        3. Loop to iterate over the image using kernel sized patch.\n",
    "        4. Inner loop to perform Convolution on Individual patch and filter.\n",
    "            a. Element-wise multiplication of single pixel in patch with filter pixel.\n",
    "        5. All the places that contain 0 value indicate perfect match between the patch and the filter.\n",
    "\n",
    "    \n",
    "    '''\n",
    "\n",
    "    grimg = np.divide(np.mean(input_img,axis=2),255)\n",
    "\n",
    "    n = 0 #row\n",
    "\n",
    "    f_dim = [int(( (len(grimg[0]) - len(filter[0]) ) /stride[1]) +1), int(((len(grimg[1]) -len(filter[1]) ) /stride[0]) +1)]\n",
    "    f_map = np.empty([f_dim[0],f_dim[1]])\n",
    "\n",
    "    while n < grimg.shape[0]-2:\n",
    "\n",
    "        m = 0  #column\n",
    "\n",
    "        while m < len(grimg[1])-2:\n",
    "\n",
    "        \n",
    "            sum = 0\n",
    "\n",
    "            # Element-wise multiplication of 3x3 matrix with filter\n",
    "\n",
    "            for i in range(n,n+3):\n",
    "                for j in range(m,m+3):\n",
    "\n",
    "                    try:\n",
    "                        sum += grimg[i,j] * filter[i-n,j-m]\n",
    "                    except:\n",
    "                        #print(m,n,[i,j],grimg.shape,grimg.shape[0])\n",
    "                        return f_map.shape\n",
    "\n",
    "            try:\n",
    "                f_map[n][m] = sum\n",
    "            except:\n",
    "                m += stride[0]\n",
    "                break\n",
    "        \n",
    "            m += stride[0]\n",
    "\n",
    "        n += stride[1]\n",
    "\n",
    "    return f_map\n",
    "    "
   ]
  },
  {
   "cell_type": "code",
   "execution_count": 11,
   "metadata": {},
   "outputs": [],
   "source": [
    "ld = convolution(img,filter1,stride1)"
   ]
  },
  {
   "cell_type": "code",
   "execution_count": 12,
   "metadata": {},
   "outputs": [
    {
     "data": {
      "text/plain": [
       "-1"
      ]
     },
     "execution_count": 12,
     "metadata": {},
     "output_type": "execute_result"
    }
   ],
   "source": [
    "cv2.imshow('',ld)\n",
    "cv2.waitKey(0)"
   ]
  },
  {
   "cell_type": "code",
   "execution_count": 31,
   "metadata": {},
   "outputs": [
    {
     "data": {
      "text/plain": [
       "True"
      ]
     },
     "execution_count": 31,
     "metadata": {},
     "output_type": "execute_result"
    }
   ],
   "source": [
    "# Writing file\n",
    "#cv2.imwrite(\"C:\\MLAI\\image.jpg\",ld)"
   ]
  }
 ],
 "metadata": {
  "interpreter": {
   "hash": "550683ac6fd052ceda3567a99bebf0b7a481503300592c9d1f0283cb298f2703"
  },
  "kernelspec": {
   "display_name": "Python 3.9.10 ('MLAI': venv)",
   "language": "python",
   "name": "python3"
  },
  "language_info": {
   "codemirror_mode": {
    "name": "ipython",
    "version": 3
   },
   "file_extension": ".py",
   "mimetype": "text/x-python",
   "name": "python",
   "nbconvert_exporter": "python",
   "pygments_lexer": "ipython3",
   "version": "3.9.10"
  },
  "orig_nbformat": 4
 },
 "nbformat": 4,
 "nbformat_minor": 2
}
