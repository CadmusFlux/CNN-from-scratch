{
 "cells": [
  {
   "cell_type": "code",
   "execution_count": 1,
   "metadata": {},
   "outputs": [],
   "source": [
    "import matplotlib.pyplot as plt\n",
    "import pandas as pd\n",
    "import numpy as np\n",
    "import cv2"
   ]
  },
  {
   "cell_type": "code",
   "execution_count": 23,
   "metadata": {},
   "outputs": [
    {
     "data": {
      "text/plain": [
       "-1"
      ]
     },
     "execution_count": 23,
     "metadata": {},
     "output_type": "execute_result"
    }
   ],
   "source": [
    "# Read and display image\n",
    "\n",
    "img = [cv2.imread(\"C:\\MLAI\\CNN-from-scratch\\chomu.jpg\")]\n",
    "\n",
    "cv2.imshow('',img[0])\n",
    "cv2.waitKey(0)"
   ]
  },
  {
   "cell_type": "code",
   "execution_count": 20,
   "metadata": {},
   "outputs": [
    {
     "data": {
      "text/plain": [
       "1"
      ]
     },
     "execution_count": 20,
     "metadata": {},
     "output_type": "execute_result"
    }
   ],
   "source": [
    "len(img)"
   ]
  },
  {
   "cell_type": "code",
   "execution_count": 24,
   "metadata": {},
   "outputs": [],
   "source": [
    "'''\n",
    "    Stride : Vector\n",
    "        0: Horizontal (column) stride\n",
    "        1: Vertical (row) stride\n",
    "'''\n",
    "\n",
    "stride1 = [0,0]\n",
    "stride1[0] = int(input(\"Enter row stride\"))\n",
    "stride1[1] = int(input(\"Enter column stride\"))\n"
   ]
  },
  {
   "cell_type": "code",
   "execution_count": 44,
   "metadata": {},
   "outputs": [],
   "source": [
    " def convolution(input_img,filter,stride):\n",
    "\n",
    "\n",
    "    '''\n",
    "\n",
    "    Parameters: \n",
    "        input_img : Original image with RGB channels [H x W x 3]\n",
    "        filter : Kernel or filter [3x3 / 5x5]\n",
    "        stride : The no.of pixels to skip with each convolution. Row stride / column stride\n",
    "    \n",
    "    Return:\n",
    "        f_map : Feature map\n",
    "\n",
    "    Algorithm:\n",
    "\n",
    "        1. Flatten the image and scale it from 0-255 to 0-1\n",
    "        2. Calculate the  dimension of output array using cnn formula\n",
    "        3. Loop to iterate over the image using kernel sized patch.\n",
    "        4. Inner loop to perform Convolution on Individual patch and filter.\n",
    "            a. Element-wise multiplication of single pixel in patch with filter pixel.\n",
    "        5. All the places that contain 0 value indicate perfect match between the patch and the filter.\n",
    "\n",
    "    \n",
    "    '''\n",
    "    if len(input_img[0].shape)>2:\n",
    "\n",
    "        grimg = np.divide(np.mean(input_img,axis=2),255)\n",
    "    else:\n",
    "        grimg = np.divide(input_img,255)\n",
    "        \n",
    "    kernel = filter.shape[0]\n",
    "\n",
    "    n = 0 #row\n",
    "    o =0\n",
    "\n",
    "    # Calculating output dimension of convolution opertion\n",
    "    f_dim = [int(( (grimg.shape[0] - len(filter[0]) ) /stride[0]) +1), int(((grimg.shape[1] -len(filter[1]) ) /stride[1]) +1)]\n",
    "    f_map = np.empty([f_dim[0],f_dim[1]])\n",
    "\n",
    "    # To test the dimensions of output\n",
    "    # print(grimg.shape,f_dim)\n",
    "    # print(grimg.shape[0],len(filter[0]),stride[1],\"second\",grimg.shape[1],len(filter[1]),stride[0])\n",
    "    # print( grimg.shape[0] - len(filter[0]),( (grimg.shape[0] - len(filter[0]) ) /stride[0]))\n",
    "    # print( grimg.shape[1] -len(filter[1]),(grimg.shape[1] -len(filter[1]) ) /stride[1])\n",
    "\n",
    "    while n < grimg.shape[0]-(kernel-1) and o<f_map.shape[0]:\n",
    "\n",
    "        m = 0  #column\n",
    "        p = 0 \n",
    "\n",
    "\n",
    "        while m < grimg.shape[1]-(kernel-1) and p<f_map.shape[1]:\n",
    "\n",
    "            sum = 0\n",
    "\n",
    "            # Element-wise multiplication of 3x3 matrix with filter\n",
    "\n",
    "            for i in range(n,n+kernel):\n",
    "                for j in range(m,m+kernel):\n",
    "\n",
    "                    try:\n",
    "                        sum += grimg[i,j] * filter[i-n,j-m]\n",
    "                    except:\n",
    "                        #print(m,n,[i,j],grimg.shape,grimg.shape[0])\n",
    "                        return f_map.shape\n",
    "\n",
    "            # To handle the index error thrown due to iterator reaching end of column.\n",
    "            try:\n",
    "                f_map[o][p] = sum\n",
    "            except: \n",
    "\n",
    "                m += stride[1]\n",
    "                break\n",
    "\n",
    "            p += 1\n",
    "            m += stride[1]\n",
    "\n",
    "        o += 1\n",
    "        n += stride[0]\n",
    "\n",
    "    return f_map\n",
    "    "
   ]
  },
  {
   "cell_type": "code",
   "execution_count": 5,
   "metadata": {},
   "outputs": [],
   "source": [
    "def init_filters(dim_of_filter,output_channels,cust_cnn = False):\n",
    "\n",
    "    '''\n",
    "    Generate filters\n",
    "\n",
    "    Parameters:\n",
    "\n",
    "        dim_of_filter  : Kernel size\n",
    "        output_channels : depth of output layer () no. of f_maps\n",
    "\n",
    "    Return:\n",
    "\n",
    "        Filters\n",
    "    '''\n",
    "\n",
    "    filters = []\n",
    "\n",
    "    for i in range(output_channels):\n",
    "        filters.append(np.random.rand(dim_of_filter,dim_of_filter))\n",
    "\n",
    "    if cust_cnn == False:\n",
    "        return filters\n",
    "    \n",
    "    else:\n",
    "\n",
    "        # If custom filter is provided\n",
    "        \n",
    "        cust_filt = np.zeros((dim_of_filter,dim_of_filter))\n",
    "        x = input(\"Enter comma seperated kernel values\").split(',')\n",
    "    \n",
    "        t = 0\n",
    "        for i in range(dim_of_filter):\n",
    "            for j in range(dim_of_filter):\n",
    "                cust_filt[i][j] = float(x[t])\n",
    "                t += 1\n",
    "        \n",
    "        filters = [cust_filt*output_channels]\n",
    "\n",
    "        return filters"
   ]
  },
  {
   "cell_type": "code",
   "execution_count": 27,
   "metadata": {},
   "outputs": [],
   "source": [
    "def cnnlayer(input_img,dim_of_filter,output_channels,stride,custom = False):\n",
    "\n",
    "    '''\n",
    "    Parameters:\n",
    "\n",
    "        input_img : [numpy-array 4D] -Input image\n",
    "        dim_of_filter: [Int] -Kernel size\n",
    "        output_channels: [int] -Depth of output layer () no. of f_maps\n",
    "        stride: [list] -The no.of pixels to skip with each convolution. Row stride / column stride\n",
    "        custom :[Boolean] - Option to provide kernel-values through user input\n",
    "    '''\n",
    "\n",
    "    curr_layer = []\n",
    "    curr_filters = init_filters(dim_of_filter,output_channels,custom)\n",
    "\n",
    "    for k in range(len(input_img)):\n",
    "\n",
    "        \n",
    "        for i in range(output_channels):\n",
    "\n",
    "            curr_layer.append(convolution(input_img[k],curr_filters[i],stride))\n",
    "\n",
    "    return curr_layer,curr_filters"
   ]
  },
  {
   "cell_type": "code",
   "execution_count": 7,
   "metadata": {},
   "outputs": [],
   "source": [
    "cust_filt = np.array([[0,-0.3,0],[0,-0.5,0],[0,0,0]])"
   ]
  },
  {
   "cell_type": "code",
   "execution_count": 45,
   "metadata": {},
   "outputs": [],
   "source": [
    "xyz,filt = cnnlayer(img,3,4,stride1)"
   ]
  },
  {
   "cell_type": "code",
   "execution_count": 46,
   "metadata": {},
   "outputs": [
    {
     "data": {
      "text/plain": [
       "3"
      ]
     },
     "execution_count": 46,
     "metadata": {},
     "output_type": "execute_result"
    }
   ],
   "source": [
    "len(img[0].shape)"
   ]
  },
  {
   "cell_type": "code",
   "execution_count": 47,
   "metadata": {},
   "outputs": [
    {
     "data": {
      "text/plain": [
       "4"
      ]
     },
     "execution_count": 47,
     "metadata": {},
     "output_type": "execute_result"
    }
   ],
   "source": [
    "len(xyz)"
   ]
  },
  {
   "cell_type": "code",
   "execution_count": 48,
   "metadata": {},
   "outputs": [],
   "source": [
    "xyz1,filt1 = cnnlayer(xyz,3,2,stride1)"
   ]
  },
  {
   "cell_type": "code",
   "execution_count": 55,
   "metadata": {},
   "outputs": [
    {
     "data": {
      "text/plain": [
       "[array([[0., 0., 0., ..., 0., 0., 0.],\n",
       "        [0., 0., 0., ..., 0., 0., 0.],\n",
       "        [0., 0., 0., ..., 0., 0., 0.],\n",
       "        ...,\n",
       "        [0., 0., 0., ..., 0., 0., 0.],\n",
       "        [0., 0., 0., ..., 0., 0., 0.],\n",
       "        [0., 0., 0., ..., 0., 0., 0.]]),\n",
       " array([[0., 0., 0., ..., 0., 0., 0.],\n",
       "        [0., 0., 0., ..., 0., 0., 0.],\n",
       "        [0., 0., 0., ..., 0., 0., 0.],\n",
       "        ...,\n",
       "        [0., 0., 0., ..., 0., 0., 0.],\n",
       "        [0., 0., 0., ..., 0., 0., 0.],\n",
       "        [0., 0., 0., ..., 0., 0., 0.]]),\n",
       " array([[0., 0., 0., ..., 0., 0., 0.],\n",
       "        [0., 0., 0., ..., 0., 0., 0.],\n",
       "        [0., 0., 0., ..., 0., 0., 0.],\n",
       "        ...,\n",
       "        [0., 0., 0., ..., 0., 0., 0.],\n",
       "        [0., 0., 0., ..., 0., 0., 0.],\n",
       "        [0., 0., 0., ..., 0., 0., 0.]]),\n",
       " array([[0., 0., 0., ..., 0., 0., 0.],\n",
       "        [0., 0., 0., ..., 0., 0., 0.],\n",
       "        [0., 0., 0., ..., 0., 0., 0.],\n",
       "        ...,\n",
       "        [0., 0., 0., ..., 0., 0., 0.],\n",
       "        [0., 0., 0., ..., 0., 0., 0.],\n",
       "        [0., 0., 0., ..., 0., 0., 0.]]),\n",
       " array([[0., 0., 0., ..., 0., 0., 0.],\n",
       "        [0., 0., 0., ..., 0., 0., 0.],\n",
       "        [0., 0., 0., ..., 0., 0., 0.],\n",
       "        ...,\n",
       "        [0., 0., 0., ..., 0., 0., 0.],\n",
       "        [0., 0., 0., ..., 0., 0., 0.],\n",
       "        [0., 0., 0., ..., 0., 0., 0.]]),\n",
       " array([[0., 0., 0., ..., 0., 0., 0.],\n",
       "        [0., 0., 0., ..., 0., 0., 0.],\n",
       "        [0., 0., 0., ..., 0., 0., 0.],\n",
       "        ...,\n",
       "        [0., 0., 0., ..., 0., 0., 0.],\n",
       "        [0., 0., 0., ..., 0., 0., 0.],\n",
       "        [0., 0., 0., ..., 0., 0., 0.]]),\n",
       " array([[0., 0., 0., ..., 0., 0., 0.],\n",
       "        [0., 0., 0., ..., 0., 0., 0.],\n",
       "        [0., 0., 0., ..., 0., 0., 0.],\n",
       "        ...,\n",
       "        [0., 0., 0., ..., 0., 0., 0.],\n",
       "        [0., 0., 0., ..., 0., 0., 0.],\n",
       "        [0., 0., 0., ..., 0., 0., 0.]]),\n",
       " array([[0., 0., 0., ..., 0., 0., 0.],\n",
       "        [0., 0., 0., ..., 0., 0., 0.],\n",
       "        [0., 0., 0., ..., 0., 0., 0.],\n",
       "        ...,\n",
       "        [0., 0., 0., ..., 0., 0., 0.],\n",
       "        [0., 0., 0., ..., 0., 0., 0.],\n",
       "        [0., 0., 0., ..., 0., 0., 0.]])]"
      ]
     },
     "execution_count": 55,
     "metadata": {},
     "output_type": "execute_result"
    }
   ],
   "source": [
    "xyz1"
   ]
  },
  {
   "cell_type": "code",
   "execution_count": 53,
   "metadata": {},
   "outputs": [
    {
     "data": {
      "image/png": "[encoded data removed]",
      "text/plain": [
       "<Figure size 432x288 with 1 Axes>"
      ]
     },
     "metadata": {
      "needs_background": "light"
     },
     "output_type": "display_data"
    }
   ],
   "source": [
    "plt.imshow(xyz1[1],cmap='gray')\n",
    "plt.show()"
   ]
  },
  {
   "cell_type": "code",
   "execution_count": 31,
   "metadata": {},
   "outputs": [
    {
     "data": {
      "text/plain": [
       "True"
      ]
     },
     "execution_count": 31,
     "metadata": {},
     "output_type": "execute_result"
    }
   ],
   "source": [
    "# Writing file\n",
    "#cv2.imwrite(\"C:\\MLAI\\image.jpg\",ld)"
   ]
  }
 ],
 "metadata": {
  "interpreter": {
   "hash": "550683ac6fd052ceda3567a99bebf0b7a481503300592c9d1f0283cb298f2703"
  },
  "kernelspec": {
   "display_name": "Python 3.9.10 ('MLAI': venv)",
   "language": "python",
   "name": "python3"
  },
  "language_info": {
   "codemirror_mode": {
    "name": "ipython",
    "version": 3
   },
   "file_extension": ".py",
   "mimetype": "text/x-python",
   "name": "python",
   "nbconvert_exporter": "python",
   "pygments_lexer": "ipython3",
   "version": "3.9.10"
  },
  "orig_nbformat": 4
 },
 "nbformat": 4,
 "nbformat_minor": 2
}
